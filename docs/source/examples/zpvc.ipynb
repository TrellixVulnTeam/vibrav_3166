{
 "cells": [
  {
   "cell_type": "markdown",
   "metadata": {},
   "source": [
    "# Running the ZPVC code for an NMR isotropic value from a Gaussian calculation\n",
    "\n",
    "Requirements:\n",
    "\n",
    " - Need the gradient and property (NMR) calculations of all the diaplaced structures.\n",
    " \n",
    "The output files must all be in some readable directory so we can use the `vibrav.util.open_files.get_data()` function. In this example the gradients and properties are calculated separately. It may be the case that for the user the gradients and properties can be calculated in the same calculation simplifying things slightly. One would still need the gradient and property values."
   ]
  },
  {
   "cell_type": "code",
   "execution_count": 8,
   "metadata": {},
   "outputs": [],
   "source": [
    "from vibrav.util.open_files import get_all_data\n",
    "from exatomic import gaussian\n",
    "from vibrav.zpvc import ZPVC\n",
    "from vibrav.base import resource\n",
    "import tarfile\n",
    "import os\n",
    "import shutil\n",
    "import numpy as np"
   ]
  },
  {
   "cell_type": "markdown",
   "metadata": {},
   "source": [
    "Extract the data files from the resource data files."
   ]
  },
  {
   "cell_type": "code",
   "execution_count": 2,
   "metadata": {},
   "outputs": [],
   "source": [
    "with tarfile.open(resource('g16-nitromalonamide-zpvc-data.tar.xz'), 'r:xz') as tar:\n",
    "    tar.extractall()\n",
    "parent = os.getcwd()\n",
    "os.chdir('g16-nitromalonamide-zpvc-data')"
   ]
  },
  {
   "cell_type": "markdown",
   "metadata": {},
   "source": [
    "## Get the gradient and property data frames.\n",
    "\n",
    "We get only the isotropic values of the NMR shielding tensor since we are interested in the observable quantity. In addition, we must specify which atom the property is to be calculated for."
   ]
  },
  {
   "cell_type": "code",
   "execution_count": 3,
   "metadata": {},
   "outputs": [],
   "source": [
    "grad = get_all_data(cls=gaussian.Output, path='output', property='gradient',\n",
    "                    f_start='nitromal-grad', f_end='.out')\n",
    "prop = get_all_data(cls=gaussian.Output, path='output', property='nmr_shielding',\n",
    "                    f_start='nitromal-prop', f_end='.out')\n",
    "prop = prop.groupby('atom').get_group(0)[['isotropic', 'file']]"
   ]
  },
  {
   "cell_type": "markdown",
   "metadata": {},
   "source": [
    "Check if any of the gradient or property calculations did not finish correctly. This is also done in the ZPVC code, however, this can give a better idea of which are actually missing."
   ]
  },
  {
   "cell_type": "code",
   "execution_count": 4,
   "metadata": {},
   "outputs": [
    {
     "name": "stdout",
     "output_type": "stream",
     "text": [
      "Missing property calculations:\n",
      "[]\n",
      "Missing gradient calculations:\n",
      "[]\n"
     ]
    }
   ],
   "source": [
    "print(\"Missing property calculations:\")\n",
    "print(np.setdiff1d(range(79), prop.file.values))\n",
    "print(\"Missing gradient calculations:\")\n",
    "print(np.setdiff1d(range(79), grad.file.values))"
   ]
  },
  {
   "cell_type": "markdown",
   "metadata": {},
   "source": [
    "## Run the ZPVC code for temperatures `[0, 100, 200, 300, 400, 600]`."
   ]
  },
  {
   "cell_type": "code",
   "execution_count": 5,
   "metadata": {},
   "outputs": [],
   "source": [
    "zpvc = ZPVC(config_file='va.conf')"
   ]
  },
  {
   "cell_type": "code",
   "execution_count": 7,
   "metadata": {},
   "outputs": [],
   "source": [
    "zpvc.zpvc(gradient=grad, property=prop, temperature=[0, 100, 200, 300, 400, 600])"
   ]
  },
  {
   "cell_type": "markdown",
   "metadata": {},
   "source": [
    "Print out the main results"
   ]
  },
  {
   "cell_type": "code",
   "execution_count": 9,
   "metadata": {},
   "outputs": [
    {
     "data": {
      "text/html": [
       "<div>\n",
       "<style scoped>\n",
       "    .dataframe tbody tr th:only-of-type {\n",
       "        vertical-align: middle;\n",
       "    }\n",
       "\n",
       "    .dataframe tbody tr th {\n",
       "        vertical-align: top;\n",
       "    }\n",
       "\n",
       "    .dataframe thead th {\n",
       "        text-align: right;\n",
       "    }\n",
       "</style>\n",
       "<table border=\"1\" class=\"dataframe\">\n",
       "  <thead>\n",
       "    <tr style=\"text-align: right;\">\n",
       "      <th></th>\n",
       "      <th>property</th>\n",
       "      <th>zpvc</th>\n",
       "      <th>zpva</th>\n",
       "      <th>tot_anharm</th>\n",
       "      <th>tot_curva</th>\n",
       "      <th>temp</th>\n",
       "    </tr>\n",
       "  </thead>\n",
       "  <tbody>\n",
       "    <tr>\n",
       "      <th>0</th>\n",
       "      <td>13.9329</td>\n",
       "      <td>-2.837661</td>\n",
       "      <td>11.095239</td>\n",
       "      <td>-3.690552</td>\n",
       "      <td>0.852892</td>\n",
       "      <td>0</td>\n",
       "    </tr>\n",
       "    <tr>\n",
       "      <th>1</th>\n",
       "      <td>13.9329</td>\n",
       "      <td>-2.755005</td>\n",
       "      <td>11.177895</td>\n",
       "      <td>-3.620932</td>\n",
       "      <td>0.865927</td>\n",
       "      <td>100</td>\n",
       "    </tr>\n",
       "    <tr>\n",
       "      <th>2</th>\n",
       "      <td>13.9329</td>\n",
       "      <td>-2.596616</td>\n",
       "      <td>11.336284</td>\n",
       "      <td>-3.510535</td>\n",
       "      <td>0.913919</td>\n",
       "      <td>200</td>\n",
       "    </tr>\n",
       "    <tr>\n",
       "      <th>3</th>\n",
       "      <td>13.9329</td>\n",
       "      <td>-2.427606</td>\n",
       "      <td>11.505294</td>\n",
       "      <td>-3.410414</td>\n",
       "      <td>0.982808</td>\n",
       "      <td>300</td>\n",
       "    </tr>\n",
       "    <tr>\n",
       "      <th>4</th>\n",
       "      <td>13.9329</td>\n",
       "      <td>-2.250905</td>\n",
       "      <td>11.681995</td>\n",
       "      <td>-3.315094</td>\n",
       "      <td>1.064189</td>\n",
       "      <td>400</td>\n",
       "    </tr>\n",
       "    <tr>\n",
       "      <th>5</th>\n",
       "      <td>13.9329</td>\n",
       "      <td>-1.902325</td>\n",
       "      <td>12.030575</td>\n",
       "      <td>-3.155685</td>\n",
       "      <td>1.253360</td>\n",
       "      <td>600</td>\n",
       "    </tr>\n",
       "  </tbody>\n",
       "</table>\n",
       "</div>"
      ],
      "text/plain": [
       "   property      zpvc       zpva  tot_anharm  tot_curva  temp\n",
       "0   13.9329 -2.837661  11.095239   -3.690552   0.852892     0\n",
       "1   13.9329 -2.755005  11.177895   -3.620932   0.865927   100\n",
       "2   13.9329 -2.596616  11.336284   -3.510535   0.913919   200\n",
       "3   13.9329 -2.427606  11.505294   -3.410414   0.982808   300\n",
       "4   13.9329 -2.250905  11.681995   -3.315094   1.064189   400\n",
       "5   13.9329 -1.902325  12.030575   -3.155685   1.253360   600"
      ]
     },
     "execution_count": 9,
     "metadata": {},
     "output_type": "execute_result"
    }
   ],
   "source": [
    "zpvc.zpvc_results"
   ]
  },
  {
   "cell_type": "markdown",
   "metadata": {},
   "source": [
    "Clean up the resuorce data files."
   ]
  },
  {
   "cell_type": "code",
   "execution_count": 10,
   "metadata": {},
   "outputs": [],
   "source": [
    "os.chdir(parent)\n",
    "shutil.rmtree('g16-nitromalonamide-zpvc-data')"
   ]
  },
  {
   "cell_type": "code",
   "execution_count": null,
   "metadata": {},
   "outputs": [],
   "source": []
  }
 ],
 "metadata": {
  "kernelspec": {
   "display_name": "Python 3",
   "language": "python",
   "name": "python3"
  },
  "language_info": {
   "codemirror_mode": {
    "name": "ipython",
    "version": 3
   },
   "file_extension": ".py",
   "mimetype": "text/x-python",
   "name": "python",
   "nbconvert_exporter": "python",
   "pygments_lexer": "ipython3",
   "version": "3.7.7"
  }
 },
 "nbformat": 4,
 "nbformat_minor": 4
}

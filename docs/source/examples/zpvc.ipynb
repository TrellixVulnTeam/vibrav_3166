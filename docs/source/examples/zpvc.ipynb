{
 "cells": [
  {
   "cell_type": "markdown",
   "metadata": {},
   "source": [
    "# Running the ZPVC code for an NMR isotropic value from a Gaussian calculation\n",
    "\n",
    "Requirements:\n",
    "\n",
    " - Need the gradient and property (NMR) calculations of all the diaplaced structures.\n",
    " \n",
    "The output files must all be in some readable directory so we can use the `vibrav.util.open_files.get_data()` function. In this example the gradients and properties are calculated separately. It may be the case that for the user the gradients and properties can be calculated in the same calculation simplifying things slightly. One would still need the gradient and property values."
   ]
  },
  {
   "cell_type": "code",
   "execution_count": 1,
   "metadata": {},
   "outputs": [],
   "source": [
    "from vibrav.base import resource\n",
    "import tarfile\n",
    "import os\n",
    "import shutil\n",
    "import numpy as np"
   ]
  },
  {
   "cell_type": "markdown",
   "metadata": {},
   "source": [
    "Extract the data files from the resource data files."
   ]
  },
  {
   "cell_type": "code",
   "execution_count": 2,
   "metadata": {},
   "outputs": [],
   "source": [
    "with tarfile.open(resource('g16-nitromalonamide-zpvc-data.tar.xz'), 'r:xz') as tar:\n",
    "    tar.extractall()\n",
    "parent = os.getcwd()\n",
    "os.chdir('g16-nitromalonamide-zpvc-data')"
   ]
  },
  {
   "cell_type": "markdown",
   "metadata": {},
   "source": [
    "## Get the gradient and property data frames.\n",
    "\n",
    "We get only the isotropic values of the NMR shielding tensor since we are interested in the observable quantity. In addition, we must specify which atom the property is to be calculated for."
   ]
  },
  {
   "cell_type": "code",
   "execution_count": 3,
   "metadata": {},
   "outputs": [],
   "source": [
    "from vibrav.util.open_files import get_all_data\n",
    "from exatomic import gaussian"
   ]
  },
  {
   "cell_type": "code",
   "execution_count": 4,
   "metadata": {},
   "outputs": [],
   "source": [
    "grad = get_all_data(cls=gaussian.Output, path='output', property='gradient',\n",
    "                    f_start='nitromal-grad', f_end='.out')\n",
    "prop = get_all_data(cls=gaussian.Output, path='output', property='nmr_shielding',\n",
    "                    f_start='nitromal-prop', f_end='.out')\n",
    "prop = prop.groupby('atom').get_group(0)[['isotropic', 'file']]"
   ]
  },
  {
   "cell_type": "markdown",
   "metadata": {},
   "source": [
    "Check if any of the gradient or property calculations did not finish correctly. This is also done in the ZPVC code, however, this can give a better idea of which are actually missing."
   ]
  },
  {
   "cell_type": "code",
   "execution_count": 5,
   "metadata": {},
   "outputs": [
    {
     "name": "stdout",
     "output_type": "stream",
     "text": [
      "Missing property calculations:\n",
      "[]\n",
      "Missing gradient calculations:\n",
      "[]\n"
     ]
    }
   ],
   "source": [
    "print(\"Missing property calculations:\")\n",
    "print(np.setdiff1d(range(79), prop.file.values))\n",
    "print(\"Missing gradient calculations:\")\n",
    "print(np.setdiff1d(range(79), grad.file.values))"
   ]
  },
  {
   "cell_type": "markdown",
   "metadata": {},
   "source": [
    "## Run the ZPVC code for temperatures `[0, 100, 200, 300, 400, 600]`."
   ]
  },
  {
   "cell_type": "code",
   "execution_count": 6,
   "metadata": {},
   "outputs": [],
   "source": [
    "from vibrav.zpvc import ZPVC"
   ]
  },
  {
   "cell_type": "code",
   "execution_count": 7,
   "metadata": {},
   "outputs": [],
   "source": [
    "zpvc = ZPVC(config_file='va.conf')"
   ]
  },
  {
   "cell_type": "code",
   "execution_count": 8,
   "metadata": {},
   "outputs": [
    {
     "name": "stderr",
     "output_type": "stream",
     "text": [
      "/home/herbertl/github/vibrav/vibrav/zpvc/zpvc.py:175: Warning: Negative force constants have been calculated for frequencies 5, 11, 14, 22, 30, 31, 33 be wary of results\n",
      "  Warning)\n",
      "/home/herbertl/github/vibrav/vibrav/zpvc/zpvc.py:177: RuntimeWarning: invalid value encountered in sqrt\n",
      "  frequencies = np.sqrt(vqi).reshape(snmodes,)*Energy['Ha', 'cm^-1']\n",
      "/opt/anaconda3/lib/python3.7/site-packages/pandas/core/frame.py:3997: SettingWithCopyWarning: \n",
      "A value is trying to be set on a copy of a slice from a DataFrame\n",
      "\n",
      "See the caveats in the documentation: https://pandas.pydata.org/pandas-docs/stable/user_guide/indexing.html#returning-a-view-versus-a-copy\n",
      "  errors=errors,\n"
     ]
    }
   ],
   "source": [
    "zpvc.zpvc(gradient=grad, property=prop, temperature=[0, 100, 200, 300, 400, 600])"
   ]
  },
  {
   "cell_type": "markdown",
   "metadata": {},
   "source": [
    "Print out the main results"
   ]
  },
  {
   "cell_type": "code",
   "execution_count": 9,
   "metadata": {},
   "outputs": [
    {
     "data": {
      "text/html": [
       "<div>\n",
       "<style scoped>\n",
       "    .dataframe tbody tr th:only-of-type {\n",
       "        vertical-align: middle;\n",
       "    }\n",
       "\n",
       "    .dataframe tbody tr th {\n",
       "        vertical-align: top;\n",
       "    }\n",
       "\n",
       "    .dataframe thead th {\n",
       "        text-align: right;\n",
       "    }\n",
       "</style>\n",
       "<table border=\"1\" class=\"dataframe\">\n",
       "  <thead>\n",
       "    <tr style=\"text-align: right;\">\n",
       "      <th></th>\n",
       "      <th>property</th>\n",
       "      <th>zpvc</th>\n",
       "      <th>zpva</th>\n",
       "      <th>tot_anharm</th>\n",
       "      <th>tot_curva</th>\n",
       "      <th>temp</th>\n",
       "    </tr>\n",
       "  </thead>\n",
       "  <tbody>\n",
       "    <tr>\n",
       "      <th>0</th>\n",
       "      <td>13.9329</td>\n",
       "      <td>-2.412468</td>\n",
       "      <td>11.520432</td>\n",
       "      <td>-0.363847</td>\n",
       "      <td>-2.048620</td>\n",
       "      <td>0</td>\n",
       "    </tr>\n",
       "    <tr>\n",
       "      <th>1</th>\n",
       "      <td>13.9329</td>\n",
       "      <td>-2.743256</td>\n",
       "      <td>11.189644</td>\n",
       "      <td>-0.310899</td>\n",
       "      <td>-2.432358</td>\n",
       "      <td>100</td>\n",
       "    </tr>\n",
       "    <tr>\n",
       "      <th>2</th>\n",
       "      <td>13.9329</td>\n",
       "      <td>-3.170739</td>\n",
       "      <td>10.762161</td>\n",
       "      <td>-0.215905</td>\n",
       "      <td>-2.954834</td>\n",
       "      <td>200</td>\n",
       "    </tr>\n",
       "    <tr>\n",
       "      <th>3</th>\n",
       "      <td>13.9329</td>\n",
       "      <td>-3.701864</td>\n",
       "      <td>10.231036</td>\n",
       "      <td>-0.127152</td>\n",
       "      <td>-3.574713</td>\n",
       "      <td>300</td>\n",
       "    </tr>\n",
       "    <tr>\n",
       "      <th>4</th>\n",
       "      <td>13.9329</td>\n",
       "      <td>-4.331624</td>\n",
       "      <td>9.601276</td>\n",
       "      <td>-0.045316</td>\n",
       "      <td>-4.286308</td>\n",
       "      <td>400</td>\n",
       "    </tr>\n",
       "    <tr>\n",
       "      <th>5</th>\n",
       "      <td>13.9329</td>\n",
       "      <td>-5.782577</td>\n",
       "      <td>8.150323</td>\n",
       "      <td>0.102157</td>\n",
       "      <td>-5.884735</td>\n",
       "      <td>600</td>\n",
       "    </tr>\n",
       "  </tbody>\n",
       "</table>\n",
       "</div>"
      ],
      "text/plain": [
       "   property      zpvc       zpva  tot_anharm  tot_curva  temp\n",
       "0   13.9329 -2.412468  11.520432   -0.363847  -2.048620     0\n",
       "1   13.9329 -2.743256  11.189644   -0.310899  -2.432358   100\n",
       "2   13.9329 -3.170739  10.762161   -0.215905  -2.954834   200\n",
       "3   13.9329 -3.701864  10.231036   -0.127152  -3.574713   300\n",
       "4   13.9329 -4.331624   9.601276   -0.045316  -4.286308   400\n",
       "5   13.9329 -5.782577   8.150323    0.102157  -5.884735   600"
      ]
     },
     "execution_count": 9,
     "metadata": {},
     "output_type": "execute_result"
    }
   ],
   "source": [
    "zpvc.zpvc_results"
   ]
  },
  {
   "cell_type": "markdown",
   "metadata": {},
   "source": [
    "Clean up the resuorce data files."
   ]
  },
  {
   "cell_type": "code",
   "execution_count": 10,
   "metadata": {},
   "outputs": [],
   "source": [
    "os.chdir(parent)\n",
    "shutil.rmtree('g16-nitromalonamide-zpvc-data')"
   ]
  },
  {
   "cell_type": "code",
   "execution_count": null,
   "metadata": {},
   "outputs": [],
   "source": []
  }
 ],
 "metadata": {
  "kernelspec": {
   "display_name": "Python 3",
   "language": "python",
   "name": "python3"
  },
  "language_info": {
   "codemirror_mode": {
    "name": "ipython",
    "version": 3
   },
   "file_extension": ".py",
   "mimetype": "text/x-python",
   "name": "python",
   "nbconvert_exporter": "python",
   "pygments_lexer": "ipython3",
   "version": "3.7.6"
  }
 },
 "nbformat": 4,
 "nbformat_minor": 4
}
